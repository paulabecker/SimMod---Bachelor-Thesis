{
 "cells": [
  {
   "cell_type": "code",
   "execution_count": 1,
   "metadata": {},
   "outputs": [],
   "source": [
    "import pandas as pd\n",
    "import numpy as np\n",
    "import matplotlib.pyplot as plt\n",
    "%matplotlib inline\n",
    "\n",
    "# Import plot functions\n",
    "from utils import load_data, lineplot, lineplots_on_grid\n",
    "\n",
    "TAG26 = \"200810-193030-BEAM-rcp26\"\n",
    "\n",
    "# Read in the pd.DataFrame\n",
    "data26 = load_data(TAG26)\n",
    "\n",
    "# Import RCP data\n",
    "data_ref26 = pd.read_table(\"../results/RCP3PD_MIDYEAR_RADFORCING.DAT\",\n",
    "                      skiprows=59, sep='\\s+')\n"
   ]
  },
  {
   "cell_type": "code",
   "execution_count": 2,
   "metadata": {},
   "outputs": [
    {
     "data": {
      "text/html": [
       "<div>\n",
       "<style scoped>\n",
       "    .dataframe tbody tr th:only-of-type {\n",
       "        vertical-align: middle;\n",
       "    }\n",
       "\n",
       "    .dataframe tbody tr th {\n",
       "        vertical-align: top;\n",
       "    }\n",
       "\n",
       "    .dataframe thead th {\n",
       "        text-align: right;\n",
       "    }\n",
       "</style>\n",
       "<table border=\"1\" class=\"dataframe\">\n",
       "  <thead>\n",
       "    <tr style=\"text-align: right;\">\n",
       "      <th></th>\n",
       "      <th>YEARS</th>\n",
       "      <th>TOTAL_INCLVOLCANIC_RF</th>\n",
       "      <th>VOLCANIC_ANNUAL_RF</th>\n",
       "      <th>SOLAR_RF</th>\n",
       "      <th>TOTAL_ANTHRO_RF</th>\n",
       "      <th>GHG_RF</th>\n",
       "      <th>KYOTOGHG_RF</th>\n",
       "      <th>CO2CH4N2O_RF</th>\n",
       "      <th>CO2_RF</th>\n",
       "      <th>CH4_RF</th>\n",
       "      <th>...</th>\n",
       "      <th>SOXI_RF</th>\n",
       "      <th>NOXI_RF</th>\n",
       "      <th>BIOMASSAER_RF</th>\n",
       "      <th>MINERALDUST_RF</th>\n",
       "      <th>CLOUD_TOT_RF</th>\n",
       "      <th>STRATOZ_RF</th>\n",
       "      <th>TROPOZ_RF</th>\n",
       "      <th>CH4OXSTRATH2O_RF</th>\n",
       "      <th>LANDUSE_RF</th>\n",
       "      <th>BCSNOW_RF</th>\n",
       "    </tr>\n",
       "  </thead>\n",
       "  <tbody>\n",
       "    <tr>\n",
       "      <th>0</th>\n",
       "      <td>1765</td>\n",
       "      <td>0.000000</td>\n",
       "      <td>0.000000</td>\n",
       "      <td>-0.028359</td>\n",
       "      <td>0.000000</td>\n",
       "      <td>0.000000</td>\n",
       "      <td>0.000000</td>\n",
       "      <td>0.000000</td>\n",
       "      <td>0.000000</td>\n",
       "      <td>0.000000</td>\n",
       "      <td>...</td>\n",
       "      <td>0.000000</td>\n",
       "      <td>0.000000</td>\n",
       "      <td>0.000000</td>\n",
       "      <td>0.000000</td>\n",
       "      <td>0.000000</td>\n",
       "      <td>0.0</td>\n",
       "      <td>0.000000</td>\n",
       "      <td>0.000000</td>\n",
       "      <td>0.000000</td>\n",
       "      <td>0.000000</td>\n",
       "    </tr>\n",
       "    <tr>\n",
       "      <th>1</th>\n",
       "      <td>1766</td>\n",
       "      <td>0.126027</td>\n",
       "      <td>0.116222</td>\n",
       "      <td>-0.020694</td>\n",
       "      <td>0.016319</td>\n",
       "      <td>0.015364</td>\n",
       "      <td>0.015364</td>\n",
       "      <td>0.015364</td>\n",
       "      <td>0.011049</td>\n",
       "      <td>0.003576</td>\n",
       "      <td>...</td>\n",
       "      <td>-0.000029</td>\n",
       "      <td>-0.000013</td>\n",
       "      <td>0.000250</td>\n",
       "      <td>-0.000191</td>\n",
       "      <td>-0.000801</td>\n",
       "      <td>0.0</td>\n",
       "      <td>0.001406</td>\n",
       "      <td>0.000607</td>\n",
       "      <td>-0.000381</td>\n",
       "      <td>0.000108</td>\n",
       "    </tr>\n",
       "    <tr>\n",
       "      <th>2</th>\n",
       "      <td>1767</td>\n",
       "      <td>0.273031</td>\n",
       "      <td>0.232444</td>\n",
       "      <td>0.007039</td>\n",
       "      <td>0.033548</td>\n",
       "      <td>0.032123</td>\n",
       "      <td>0.032123</td>\n",
       "      <td>0.032123</td>\n",
       "      <td>0.023246</td>\n",
       "      <td>0.007361</td>\n",
       "      <td>...</td>\n",
       "      <td>-0.000080</td>\n",
       "      <td>-0.000032</td>\n",
       "      <td>0.000673</td>\n",
       "      <td>-0.000568</td>\n",
       "      <td>-0.002381</td>\n",
       "      <td>0.0</td>\n",
       "      <td>0.003378</td>\n",
       "      <td>0.001249</td>\n",
       "      <td>-0.001135</td>\n",
       "      <td>0.000321</td>\n",
       "    </tr>\n",
       "    <tr>\n",
       "      <th>3</th>\n",
       "      <td>1768</td>\n",
       "      <td>0.278871</td>\n",
       "      <td>0.197444</td>\n",
       "      <td>0.046257</td>\n",
       "      <td>0.035170</td>\n",
       "      <td>0.034972</td>\n",
       "      <td>0.034972</td>\n",
       "      <td>0.034972</td>\n",
       "      <td>0.025605</td>\n",
       "      <td>0.007773</td>\n",
       "      <td>...</td>\n",
       "      <td>-0.000120</td>\n",
       "      <td>-0.000042</td>\n",
       "      <td>0.000978</td>\n",
       "      <td>-0.000936</td>\n",
       "      <td>-0.003915</td>\n",
       "      <td>0.0</td>\n",
       "      <td>0.004257</td>\n",
       "      <td>0.001319</td>\n",
       "      <td>-0.001872</td>\n",
       "      <td>0.000528</td>\n",
       "    </tr>\n",
       "    <tr>\n",
       "      <th>4</th>\n",
       "      <td>1769</td>\n",
       "      <td>0.242045</td>\n",
       "      <td>0.131819</td>\n",
       "      <td>0.073605</td>\n",
       "      <td>0.036621</td>\n",
       "      <td>0.037899</td>\n",
       "      <td>0.037899</td>\n",
       "      <td>0.037899</td>\n",
       "      <td>0.028057</td>\n",
       "      <td>0.008172</td>\n",
       "      <td>...</td>\n",
       "      <td>-0.000154</td>\n",
       "      <td>-0.000048</td>\n",
       "      <td>0.001215</td>\n",
       "      <td>-0.001295</td>\n",
       "      <td>-0.005404</td>\n",
       "      <td>0.0</td>\n",
       "      <td>0.004880</td>\n",
       "      <td>0.001387</td>\n",
       "      <td>-0.002590</td>\n",
       "      <td>0.000731</td>\n",
       "    </tr>\n",
       "    <tr>\n",
       "      <th>...</th>\n",
       "      <td>...</td>\n",
       "      <td>...</td>\n",
       "      <td>...</td>\n",
       "      <td>...</td>\n",
       "      <td>...</td>\n",
       "      <td>...</td>\n",
       "      <td>...</td>\n",
       "      <td>...</td>\n",
       "      <td>...</td>\n",
       "      <td>...</td>\n",
       "      <td>...</td>\n",
       "      <td>...</td>\n",
       "      <td>...</td>\n",
       "      <td>...</td>\n",
       "      <td>...</td>\n",
       "      <td>...</td>\n",
       "      <td>...</td>\n",
       "      <td>...</td>\n",
       "      <td>...</td>\n",
       "      <td>...</td>\n",
       "      <td>...</td>\n",
       "    </tr>\n",
       "    <tr>\n",
       "      <th>731</th>\n",
       "      <td>2496</td>\n",
       "      <td>1.194720</td>\n",
       "      <td>0.000000</td>\n",
       "      <td>0.190562</td>\n",
       "      <td>1.004158</td>\n",
       "      <td>1.545107</td>\n",
       "      <td>1.541580</td>\n",
       "      <td>1.397604</td>\n",
       "      <td>0.899000</td>\n",
       "      <td>0.282968</td>\n",
       "      <td>...</td>\n",
       "      <td>-0.041047</td>\n",
       "      <td>-0.041949</td>\n",
       "      <td>0.001832</td>\n",
       "      <td>-0.100000</td>\n",
       "      <td>-0.397193</td>\n",
       "      <td>0.0</td>\n",
       "      <td>0.200103</td>\n",
       "      <td>0.048268</td>\n",
       "      <td>-0.292969</td>\n",
       "      <td>0.038412</td>\n",
       "    </tr>\n",
       "    <tr>\n",
       "      <th>732</th>\n",
       "      <td>2497</td>\n",
       "      <td>1.175858</td>\n",
       "      <td>0.000000</td>\n",
       "      <td>0.174151</td>\n",
       "      <td>1.001706</td>\n",
       "      <td>1.542662</td>\n",
       "      <td>1.539148</td>\n",
       "      <td>1.395166</td>\n",
       "      <td>0.896579</td>\n",
       "      <td>0.282954</td>\n",
       "      <td>...</td>\n",
       "      <td>-0.041047</td>\n",
       "      <td>-0.041949</td>\n",
       "      <td>0.001832</td>\n",
       "      <td>-0.100000</td>\n",
       "      <td>-0.397193</td>\n",
       "      <td>0.0</td>\n",
       "      <td>0.200099</td>\n",
       "      <td>0.048266</td>\n",
       "      <td>-0.292969</td>\n",
       "      <td>0.038412</td>\n",
       "    </tr>\n",
       "    <tr>\n",
       "      <th>733</th>\n",
       "      <td>2498</td>\n",
       "      <td>1.129665</td>\n",
       "      <td>0.000000</td>\n",
       "      <td>0.130187</td>\n",
       "      <td>0.999479</td>\n",
       "      <td>1.540437</td>\n",
       "      <td>1.536935</td>\n",
       "      <td>1.392946</td>\n",
       "      <td>0.894369</td>\n",
       "      <td>0.282949</td>\n",
       "      <td>...</td>\n",
       "      <td>-0.041047</td>\n",
       "      <td>-0.041949</td>\n",
       "      <td>0.001832</td>\n",
       "      <td>-0.100000</td>\n",
       "      <td>-0.397193</td>\n",
       "      <td>0.0</td>\n",
       "      <td>0.200097</td>\n",
       "      <td>0.048265</td>\n",
       "      <td>-0.292969</td>\n",
       "      <td>0.038412</td>\n",
       "    </tr>\n",
       "    <tr>\n",
       "      <th>734</th>\n",
       "      <td>2499</td>\n",
       "      <td>1.083530</td>\n",
       "      <td>0.000000</td>\n",
       "      <td>0.086078</td>\n",
       "      <td>0.997452</td>\n",
       "      <td>1.538403</td>\n",
       "      <td>1.534914</td>\n",
       "      <td>1.390915</td>\n",
       "      <td>0.892327</td>\n",
       "      <td>0.282963</td>\n",
       "      <td>...</td>\n",
       "      <td>-0.041047</td>\n",
       "      <td>-0.041949</td>\n",
       "      <td>0.001832</td>\n",
       "      <td>-0.100000</td>\n",
       "      <td>-0.397193</td>\n",
       "      <td>0.0</td>\n",
       "      <td>0.200101</td>\n",
       "      <td>0.048268</td>\n",
       "      <td>-0.292969</td>\n",
       "      <td>0.038412</td>\n",
       "    </tr>\n",
       "    <tr>\n",
       "      <th>735</th>\n",
       "      <td>2500</td>\n",
       "      <td>1.066132</td>\n",
       "      <td>0.000000</td>\n",
       "      <td>0.084417</td>\n",
       "      <td>0.996482</td>\n",
       "      <td>1.537427</td>\n",
       "      <td>1.533944</td>\n",
       "      <td>1.389941</td>\n",
       "      <td>0.891341</td>\n",
       "      <td>0.282977</td>\n",
       "      <td>...</td>\n",
       "      <td>-0.041047</td>\n",
       "      <td>-0.041949</td>\n",
       "      <td>0.001832</td>\n",
       "      <td>-0.100000</td>\n",
       "      <td>-0.397193</td>\n",
       "      <td>0.0</td>\n",
       "      <td>0.200105</td>\n",
       "      <td>0.048270</td>\n",
       "      <td>-0.292969</td>\n",
       "      <td>0.038412</td>\n",
       "    </tr>\n",
       "  </tbody>\n",
       "</table>\n",
       "<p>736 rows × 54 columns</p>\n",
       "</div>"
      ],
      "text/plain": [
       "     YEARS  TOTAL_INCLVOLCANIC_RF  VOLCANIC_ANNUAL_RF  SOLAR_RF  \\\n",
       "0     1765               0.000000            0.000000 -0.028359   \n",
       "1     1766               0.126027            0.116222 -0.020694   \n",
       "2     1767               0.273031            0.232444  0.007039   \n",
       "3     1768               0.278871            0.197444  0.046257   \n",
       "4     1769               0.242045            0.131819  0.073605   \n",
       "..     ...                    ...                 ...       ...   \n",
       "731   2496               1.194720            0.000000  0.190562   \n",
       "732   2497               1.175858            0.000000  0.174151   \n",
       "733   2498               1.129665            0.000000  0.130187   \n",
       "734   2499               1.083530            0.000000  0.086078   \n",
       "735   2500               1.066132            0.000000  0.084417   \n",
       "\n",
       "     TOTAL_ANTHRO_RF    GHG_RF  KYOTOGHG_RF  CO2CH4N2O_RF    CO2_RF    CH4_RF  \\\n",
       "0           0.000000  0.000000     0.000000      0.000000  0.000000  0.000000   \n",
       "1           0.016319  0.015364     0.015364      0.015364  0.011049  0.003576   \n",
       "2           0.033548  0.032123     0.032123      0.032123  0.023246  0.007361   \n",
       "3           0.035170  0.034972     0.034972      0.034972  0.025605  0.007773   \n",
       "4           0.036621  0.037899     0.037899      0.037899  0.028057  0.008172   \n",
       "..               ...       ...          ...           ...       ...       ...   \n",
       "731         1.004158  1.545107     1.541580      1.397604  0.899000  0.282968   \n",
       "732         1.001706  1.542662     1.539148      1.395166  0.896579  0.282954   \n",
       "733         0.999479  1.540437     1.536935      1.392946  0.894369  0.282949   \n",
       "734         0.997452  1.538403     1.534914      1.390915  0.892327  0.282963   \n",
       "735         0.996482  1.537427     1.533944      1.389941  0.891341  0.282977   \n",
       "\n",
       "     ...   SOXI_RF   NOXI_RF  BIOMASSAER_RF  MINERALDUST_RF  CLOUD_TOT_RF  \\\n",
       "0    ...  0.000000  0.000000       0.000000        0.000000      0.000000   \n",
       "1    ... -0.000029 -0.000013       0.000250       -0.000191     -0.000801   \n",
       "2    ... -0.000080 -0.000032       0.000673       -0.000568     -0.002381   \n",
       "3    ... -0.000120 -0.000042       0.000978       -0.000936     -0.003915   \n",
       "4    ... -0.000154 -0.000048       0.001215       -0.001295     -0.005404   \n",
       "..   ...       ...       ...            ...             ...           ...   \n",
       "731  ... -0.041047 -0.041949       0.001832       -0.100000     -0.397193   \n",
       "732  ... -0.041047 -0.041949       0.001832       -0.100000     -0.397193   \n",
       "733  ... -0.041047 -0.041949       0.001832       -0.100000     -0.397193   \n",
       "734  ... -0.041047 -0.041949       0.001832       -0.100000     -0.397193   \n",
       "735  ... -0.041047 -0.041949       0.001832       -0.100000     -0.397193   \n",
       "\n",
       "     STRATOZ_RF  TROPOZ_RF  CH4OXSTRATH2O_RF  LANDUSE_RF  BCSNOW_RF  \n",
       "0           0.0   0.000000          0.000000    0.000000   0.000000  \n",
       "1           0.0   0.001406          0.000607   -0.000381   0.000108  \n",
       "2           0.0   0.003378          0.001249   -0.001135   0.000321  \n",
       "3           0.0   0.004257          0.001319   -0.001872   0.000528  \n",
       "4           0.0   0.004880          0.001387   -0.002590   0.000731  \n",
       "..          ...        ...               ...         ...        ...  \n",
       "731         0.0   0.200103          0.048268   -0.292969   0.038412  \n",
       "732         0.0   0.200099          0.048266   -0.292969   0.038412  \n",
       "733         0.0   0.200097          0.048265   -0.292969   0.038412  \n",
       "734         0.0   0.200101          0.048268   -0.292969   0.038412  \n",
       "735         0.0   0.200105          0.048270   -0.292969   0.038412  \n",
       "\n",
       "[736 rows x 54 columns]"
      ]
     },
     "execution_count": 2,
     "metadata": {},
     "output_type": "execute_result"
    }
   ],
   "source": [
    "data_ref26"
   ]
  },
  {
   "cell_type": "code",
   "execution_count": 3,
   "metadata": {},
   "outputs": [],
   "source": [
    "# choose RCP data\n",
    "keep_ref = data_ref26[data_ref26['YEARS']>1999]\n",
    "keep_ref = keep_ref[keep_ref['YEARS']<2100]\n",
    "time_ref26 = keep_ref['YEARS']\n",
    "rf_ghg_ref26 = keep_ref['CO2CH4N2O_RF']"
   ]
  },
  {
   "cell_type": "code",
   "execution_count": 4,
   "metadata": {},
   "outputs": [],
   "source": [
    "# choose SimMod data\n",
    "keep = data26[data26['year']>1999]\n",
    "time26 = keep['year']\n",
    "rf_ghg26 = keep['total_forcing_ghg']\n"
   ]
  },
  {
   "cell_type": "code",
   "execution_count": 5,
   "metadata": {},
   "outputs": [
    {
     "data": {
      "text/plain": [
       "Text(0,0.5,'W/m^2')"
      ]
     },
     "execution_count": 5,
     "metadata": {},
     "output_type": "execute_result"
    },
    {
     "data": {
      "image/png": "[encoded data removed]",
      "text/plain": [
       "<matplotlib.figure.Figure at 0x26b53c2a7f0>"
      ]
     },
     "metadata": {},
     "output_type": "display_data"
    }
   ],
   "source": [
    "# SimMod GHG concentrations\n",
    "plt.plot(time26, rf_ghg26, ls = 'dashed')\n",
    "\n",
    "# RCP GHG concentrations\n",
    "plt.plot(time_ref26, rf_ghg_ref26)\n",
    "\n",
    "plt.title(\"SimMod, CMIP5: GHG RF for RCP 2.6\")\n",
    "plt.xlabel(\"year\")\n",
    "plt.ylabel(\"W/m^2\")"
   ]
  },
  {
   "cell_type": "code",
   "execution_count": 6,
   "metadata": {},
   "outputs": [],
   "source": [
    "# choose RCP data\n",
    "keep_ref = data_ref26[data_ref26['YEARS']>1999]\n",
    "keep_ref = keep_ref[keep_ref['YEARS']<2100]\n",
    "time_ref26 = keep_ref['YEARS']\n",
    "rf_ghg_ref26 = keep_ref['TOTAL_ANTHRO_RF']"
   ]
  },
  {
   "cell_type": "code",
   "execution_count": 7,
   "metadata": {},
   "outputs": [],
   "source": [
    "# choose SimMod data\n",
    "keep = data26[data26['year']>1999]\n",
    "time26 = keep['year']\n",
    "rf_ghg26 = keep['total_forcing']\n"
   ]
  },
  {
   "cell_type": "code",
   "execution_count": 8,
   "metadata": {},
   "outputs": [
    {
     "data": {
      "text/plain": [
       "Text(0,0.5,'W/m^2')"
      ]
     },
     "execution_count": 8,
     "metadata": {},
     "output_type": "execute_result"
    },
    {
     "data": {
      "image/png": "[encoded data removed]",
      "text/plain": [
       "<matplotlib.figure.Figure at 0x26b53c2a710>"
      ]
     },
     "metadata": {},
     "output_type": "display_data"
    }
   ],
   "source": [
    "# SimMod \n",
    "plt.plot(time26, rf_ghg26, ls = 'dashed')\n",
    "\n",
    "# CMIP5\n",
    "plt.plot(time_ref26, rf_ghg_ref26)\n",
    "\n",
    "plt.title(\"SimMod: total RF, CMIP5: total anthropogenic RF for RCP 2.6\")\n",
    "plt.xlabel(\"year\")\n",
    "plt.ylabel(\"W/m^2\")"
   ]
  },
  {
   "cell_type": "code",
   "execution_count": 9,
   "metadata": {},
   "outputs": [],
   "source": [
    "# choose RCP data\n",
    "keep_ref = data_ref26[data_ref26['YEARS']>1999]\n",
    "keep_ref = keep_ref[keep_ref['YEARS']<2100]\n",
    "time_ref26 = keep_ref['YEARS']\n",
    "rf_ghg_ref26 = keep_ref['CO2_RF']"
   ]
  },
  {
   "cell_type": "code",
   "execution_count": 10,
   "metadata": {},
   "outputs": [],
   "source": [
    "# choose SimMod data\n",
    "keep = data26[data26['year']>1999]\n",
    "time26 = keep['year']\n",
    "rf_ghg26 = keep['co2_forcing']\n"
   ]
  },
  {
   "cell_type": "code",
   "execution_count": 11,
   "metadata": {},
   "outputs": [
    {
     "data": {
      "text/plain": [
       "Text(0,0.5,'W/m^2')"
      ]
     },
     "execution_count": 11,
     "metadata": {},
     "output_type": "execute_result"
    },
    {
     "data": {
      "image/png": "[encoded data removed]",
      "text/plain": [
       "<matplotlib.figure.Figure at 0x26b53c2aeb8>"
      ]
     },
     "metadata": {},
     "output_type": "display_data"
    }
   ],
   "source": [
    "# SimMod \n",
    "plt.plot(time26, rf_ghg26, ls = 'dashed')\n",
    "\n",
    "# CMIP5\n",
    "plt.plot(time_ref26, rf_ghg_ref26)\n",
    "\n",
    "plt.title(\"SimMod, CMIP5: CO2 RF for RCP 2.6\")\n",
    "plt.xlabel(\"year\")\n",
    "plt.ylabel(\"W/m^2\")"
   ]
  },
  {
   "cell_type": "code",
   "execution_count": 12,
   "metadata": {},
   "outputs": [],
   "source": [
    "# choose RCP data\n",
    "keep_ref = data_ref26[data_ref26['YEARS']>1999]\n",
    "keep_ref = keep_ref[keep_ref['YEARS']<2100]\n",
    "time_ref26 = keep_ref['YEARS']\n",
    "rf_ghg_ref26 = keep_ref['CH4_RF']"
   ]
  },
  {
   "cell_type": "code",
   "execution_count": 13,
   "metadata": {},
   "outputs": [],
   "source": [
    "# choose SimMod data\n",
    "keep = data26[data26['year']>1999]\n",
    "time26 = keep['year']\n",
    "rf_ghg26 = keep['ch4_forcing']"
   ]
  },
  {
   "cell_type": "code",
   "execution_count": 14,
   "metadata": {},
   "outputs": [
    {
     "data": {
      "text/plain": [
       "Text(0,0.5,'W/m^2')"
      ]
     },
     "execution_count": 14,
     "metadata": {},
     "output_type": "execute_result"
    },
    {
     "data": {
      "image/png": "[encoded data removed]",
      "text/plain": [
       "<matplotlib.figure.Figure at 0x26b4bf48518>"
      ]
     },
     "metadata": {},
     "output_type": "display_data"
    }
   ],
   "source": [
    "# SimMod \n",
    "plt.plot(time26, rf_ghg26, ls = 'dashed')\n",
    "\n",
    "# CMIP5\n",
    "plt.plot(time_ref26, rf_ghg_ref26)\n",
    "\n",
    "plt.title(\"SimMod, CMIP5: CH4 RF for RCP 2.6\")\n",
    "plt.xlabel(\"year\")\n",
    "plt.ylabel(\"W/m^2\")"
   ]
  },
  {
   "cell_type": "code",
   "execution_count": 15,
   "metadata": {},
   "outputs": [],
   "source": [
    "# choose RCP data\n",
    "keep_ref = data_ref26[data_ref26['YEARS']>1999]\n",
    "keep_ref = keep_ref[keep_ref['YEARS']<2100]\n",
    "time_ref26 = keep_ref['YEARS']\n",
    "rf_ghg_ref26 = keep_ref['N2O_RF']"
   ]
  },
  {
   "cell_type": "code",
   "execution_count": 16,
   "metadata": {},
   "outputs": [],
   "source": [
    "# choose SimMod data\n",
    "keep = data26[data26['year']>1999]\n",
    "time26 = keep['year']\n",
    "rf_ghg26 = keep['n2o_forcing']\n"
   ]
  },
  {
   "cell_type": "code",
   "execution_count": 17,
   "metadata": {},
   "outputs": [
    {
     "data": {
      "text/plain": [
       "Text(0,0.5,'W/m^2')"
      ]
     },
     "execution_count": 17,
     "metadata": {},
     "output_type": "execute_result"
    },
    {
     "data": {
      "image/png": "[encoded data removed]",
      "text/plain": [
       "<matplotlib.figure.Figure at 0x26b53ec7278>"
      ]
     },
     "metadata": {},
     "output_type": "display_data"
    }
   ],
   "source": [
    "# SimMod \n",
    "plt.plot(time26, rf_ghg26, ls = 'dashed')\n",
    "\n",
    "# CMIP5\n",
    "plt.plot(time_ref26, rf_ghg_ref26)\n",
    "\n",
    "plt.title(\"SimMod, CMIP5: N2O RF for RCP 2.6\")\n",
    "plt.xlabel(\"year\")\n",
    "plt.ylabel(\"W/m^2\")"
   ]
  },
  {
   "cell_type": "code",
   "execution_count": null,
   "metadata": {},
   "outputs": [],
   "source": []
  }
 ],
 "metadata": {
  "kernelspec": {
   "display_name": "Python 3",
   "language": "python",
   "name": "python3"
  },
  "language_info": {
   "codemirror_mode": {
    "name": "ipython",
    "version": 3
   },
   "file_extension": ".py",
   "mimetype": "text/x-python",
   "name": "python",
   "nbconvert_exporter": "python",
   "pygments_lexer": "ipython3",
   "version": "3.6.3"
  }
 },
 "nbformat": 4,
 "nbformat_minor": 2
}
