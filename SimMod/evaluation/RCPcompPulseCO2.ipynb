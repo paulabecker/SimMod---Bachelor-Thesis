{
 "cells": [
  {
   "cell_type": "code",
   "execution_count": 1,
   "metadata": {},
   "outputs": [],
   "source": [
    "import pandas as pd\n",
    "import numpy as np\n",
    "import matplotlib.pyplot as plt\n",
    "%matplotlib inline\n",
    "\n",
    "# Import plot functions\n",
    "from utils import load_data, lineplot, lineplots_on_grid\n",
    "\n",
    "TAG45 = \"200809-183506-pulse_response-rcp45\"\n",
    "\n",
    "# Read in the pd.DataFrame\n",
    "data45 = load_data(TAG45)\n",
    "\n",
    "# Import RCP data\n",
    "data45_ref = pd.read_table(\"../results/RCP45_MIDYR_CONC.DAT\",\n",
    "                      skiprows=38, sep='\\s+')\n"
   ]
  },
  {
   "cell_type": "code",
   "execution_count": 119,
   "metadata": {},
   "outputs": [
    {
     "data": {
      "text/html": [
       "<div>\n",
       "<style scoped>\n",
       "    .dataframe tbody tr th:only-of-type {\n",
       "        vertical-align: middle;\n",
       "    }\n",
       "\n",
       "    .dataframe tbody tr th {\n",
       "        vertical-align: top;\n",
       "    }\n",
       "\n",
       "    .dataframe thead th {\n",
       "        text-align: right;\n",
       "    }\n",
       "</style>\n",
       "<table border=\"1\" class=\"dataframe\">\n",
       "  <thead>\n",
       "    <tr style=\"text-align: right;\">\n",
       "      <th></th>\n",
       "      <th>YEARS</th>\n",
       "      <th>CO2EQ</th>\n",
       "      <th>KYOTO-CO2EQ</th>\n",
       "      <th>CO2</th>\n",
       "      <th>CH4</th>\n",
       "      <th>N2O</th>\n",
       "      <th>FGASSUMHFC134AEQ</th>\n",
       "      <th>MHALOSUMCFC12EQ</th>\n",
       "      <th>CF4</th>\n",
       "      <th>C2F6</th>\n",
       "      <th>...</th>\n",
       "      <th>MCF</th>\n",
       "      <th>HCFC_22</th>\n",
       "      <th>HCFC_141B</th>\n",
       "      <th>HCFC_142B</th>\n",
       "      <th>HALON1211</th>\n",
       "      <th>HALON1202</th>\n",
       "      <th>HALON1301</th>\n",
       "      <th>HALON2402</th>\n",
       "      <th>CH3BR</th>\n",
       "      <th>CH3CL</th>\n",
       "    </tr>\n",
       "  </thead>\n",
       "  <tbody>\n",
       "    <tr>\n",
       "      <th>0</th>\n",
       "      <td>1765</td>\n",
       "      <td>277.01467</td>\n",
       "      <td>277.01467</td>\n",
       "      <td>278.05158</td>\n",
       "      <td>721.89411</td>\n",
       "      <td>272.95961</td>\n",
       "      <td>0.0000</td>\n",
       "      <td>0.00000</td>\n",
       "      <td>35.00000</td>\n",
       "      <td>0.000000</td>\n",
       "      <td>...</td>\n",
       "      <td>0.000000e+00</td>\n",
       "      <td>0.000000</td>\n",
       "      <td>0.000000</td>\n",
       "      <td>0.000000</td>\n",
       "      <td>0.000000</td>\n",
       "      <td>0.000000e+00</td>\n",
       "      <td>0.000000</td>\n",
       "      <td>0.000000</td>\n",
       "      <td>5.800000</td>\n",
       "      <td>480.00000</td>\n",
       "    </tr>\n",
       "    <tr>\n",
       "      <th>1</th>\n",
       "      <td>1766</td>\n",
       "      <td>277.83880</td>\n",
       "      <td>277.81457</td>\n",
       "      <td>278.10615</td>\n",
       "      <td>722.25570</td>\n",
       "      <td>272.97121</td>\n",
       "      <td>0.0000</td>\n",
       "      <td>0.00000</td>\n",
       "      <td>35.00000</td>\n",
       "      <td>0.000000</td>\n",
       "      <td>...</td>\n",
       "      <td>0.000000e+00</td>\n",
       "      <td>0.000000</td>\n",
       "      <td>0.000000</td>\n",
       "      <td>0.000000</td>\n",
       "      <td>0.000000</td>\n",
       "      <td>0.000000e+00</td>\n",
       "      <td>0.000000</td>\n",
       "      <td>0.000000</td>\n",
       "      <td>5.800000</td>\n",
       "      <td>480.00000</td>\n",
       "    </tr>\n",
       "    <tr>\n",
       "      <th>2</th>\n",
       "      <td>1767</td>\n",
       "      <td>278.69351</td>\n",
       "      <td>278.68732</td>\n",
       "      <td>278.22039</td>\n",
       "      <td>722.97082</td>\n",
       "      <td>272.99419</td>\n",
       "      <td>0.0000</td>\n",
       "      <td>0.00000</td>\n",
       "      <td>35.00000</td>\n",
       "      <td>0.000000</td>\n",
       "      <td>...</td>\n",
       "      <td>0.000000e+00</td>\n",
       "      <td>0.000000</td>\n",
       "      <td>0.000000</td>\n",
       "      <td>0.000000</td>\n",
       "      <td>0.000000</td>\n",
       "      <td>0.000000e+00</td>\n",
       "      <td>0.000000</td>\n",
       "      <td>0.000000</td>\n",
       "      <td>5.800000</td>\n",
       "      <td>480.00000</td>\n",
       "    </tr>\n",
       "    <tr>\n",
       "      <th>3</th>\n",
       "      <td>1768</td>\n",
       "      <td>278.74752</td>\n",
       "      <td>278.83598</td>\n",
       "      <td>278.34305</td>\n",
       "      <td>723.66792</td>\n",
       "      <td>273.01678</td>\n",
       "      <td>0.0000</td>\n",
       "      <td>0.00000</td>\n",
       "      <td>35.00000</td>\n",
       "      <td>0.000000</td>\n",
       "      <td>...</td>\n",
       "      <td>0.000000e+00</td>\n",
       "      <td>0.000000</td>\n",
       "      <td>0.000000</td>\n",
       "      <td>0.000000</td>\n",
       "      <td>0.000000</td>\n",
       "      <td>0.000000e+00</td>\n",
       "      <td>0.000000</td>\n",
       "      <td>0.000000</td>\n",
       "      <td>5.800000</td>\n",
       "      <td>480.00000</td>\n",
       "    </tr>\n",
       "    <tr>\n",
       "      <th>4</th>\n",
       "      <td>1769</td>\n",
       "      <td>278.79644</td>\n",
       "      <td>278.98880</td>\n",
       "      <td>278.47058</td>\n",
       "      <td>724.34313</td>\n",
       "      <td>273.03903</td>\n",
       "      <td>0.0000</td>\n",
       "      <td>0.00000</td>\n",
       "      <td>35.00000</td>\n",
       "      <td>0.000000</td>\n",
       "      <td>...</td>\n",
       "      <td>0.000000e+00</td>\n",
       "      <td>0.000000</td>\n",
       "      <td>0.000000</td>\n",
       "      <td>0.000000</td>\n",
       "      <td>0.000000</td>\n",
       "      <td>0.000000e+00</td>\n",
       "      <td>0.000000</td>\n",
       "      <td>0.000000</td>\n",
       "      <td>5.800000</td>\n",
       "      <td>480.00000</td>\n",
       "    </tr>\n",
       "    <tr>\n",
       "      <th>...</th>\n",
       "      <td>...</td>\n",
       "      <td>...</td>\n",
       "      <td>...</td>\n",
       "      <td>...</td>\n",
       "      <td>...</td>\n",
       "      <td>...</td>\n",
       "      <td>...</td>\n",
       "      <td>...</td>\n",
       "      <td>...</td>\n",
       "      <td>...</td>\n",
       "      <td>...</td>\n",
       "      <td>...</td>\n",
       "      <td>...</td>\n",
       "      <td>...</td>\n",
       "      <td>...</td>\n",
       "      <td>...</td>\n",
       "      <td>...</td>\n",
       "      <td>...</td>\n",
       "      <td>...</td>\n",
       "      <td>...</td>\n",
       "      <td>...</td>\n",
       "    </tr>\n",
       "    <tr>\n",
       "      <th>731</th>\n",
       "      <td>2496</td>\n",
       "      <td>583.28779</td>\n",
       "      <td>637.60025</td>\n",
       "      <td>542.95532</td>\n",
       "      <td>1541.64710</td>\n",
       "      <td>379.49266</td>\n",
       "      <td>747.7652</td>\n",
       "      <td>128.44553</td>\n",
       "      <td>157.94612</td>\n",
       "      <td>13.482454</td>\n",
       "      <td>...</td>\n",
       "      <td>3.551314e-12</td>\n",
       "      <td>0.045656</td>\n",
       "      <td>0.135729</td>\n",
       "      <td>0.040377</td>\n",
       "      <td>0.001859</td>\n",
       "      <td>1.302562e-23</td>\n",
       "      <td>0.337235</td>\n",
       "      <td>0.000177</td>\n",
       "      <td>5.945972</td>\n",
       "      <td>538.02891</td>\n",
       "    </tr>\n",
       "    <tr>\n",
       "      <th>732</th>\n",
       "      <td>2497</td>\n",
       "      <td>583.28779</td>\n",
       "      <td>637.60025</td>\n",
       "      <td>542.95532</td>\n",
       "      <td>1541.64710</td>\n",
       "      <td>379.49266</td>\n",
       "      <td>747.7652</td>\n",
       "      <td>128.44553</td>\n",
       "      <td>157.94612</td>\n",
       "      <td>13.482454</td>\n",
       "      <td>...</td>\n",
       "      <td>3.551314e-12</td>\n",
       "      <td>0.045656</td>\n",
       "      <td>0.135729</td>\n",
       "      <td>0.040377</td>\n",
       "      <td>0.001859</td>\n",
       "      <td>1.302562e-23</td>\n",
       "      <td>0.337235</td>\n",
       "      <td>0.000177</td>\n",
       "      <td>5.945972</td>\n",
       "      <td>538.02891</td>\n",
       "    </tr>\n",
       "    <tr>\n",
       "      <th>733</th>\n",
       "      <td>2498</td>\n",
       "      <td>583.28779</td>\n",
       "      <td>637.60025</td>\n",
       "      <td>542.95532</td>\n",
       "      <td>1541.64710</td>\n",
       "      <td>379.49266</td>\n",
       "      <td>747.7652</td>\n",
       "      <td>128.44553</td>\n",
       "      <td>157.94612</td>\n",
       "      <td>13.482454</td>\n",
       "      <td>...</td>\n",
       "      <td>3.551314e-12</td>\n",
       "      <td>0.045656</td>\n",
       "      <td>0.135729</td>\n",
       "      <td>0.040377</td>\n",
       "      <td>0.001859</td>\n",
       "      <td>1.302562e-23</td>\n",
       "      <td>0.337235</td>\n",
       "      <td>0.000177</td>\n",
       "      <td>5.945972</td>\n",
       "      <td>538.02891</td>\n",
       "    </tr>\n",
       "    <tr>\n",
       "      <th>734</th>\n",
       "      <td>2499</td>\n",
       "      <td>583.28779</td>\n",
       "      <td>637.60025</td>\n",
       "      <td>542.95532</td>\n",
       "      <td>1541.64710</td>\n",
       "      <td>379.49266</td>\n",
       "      <td>747.7652</td>\n",
       "      <td>128.44553</td>\n",
       "      <td>157.94612</td>\n",
       "      <td>13.482454</td>\n",
       "      <td>...</td>\n",
       "      <td>3.551314e-12</td>\n",
       "      <td>0.045656</td>\n",
       "      <td>0.135729</td>\n",
       "      <td>0.040377</td>\n",
       "      <td>0.001859</td>\n",
       "      <td>1.302562e-23</td>\n",
       "      <td>0.337235</td>\n",
       "      <td>0.000177</td>\n",
       "      <td>5.945972</td>\n",
       "      <td>538.02891</td>\n",
       "    </tr>\n",
       "    <tr>\n",
       "      <th>735</th>\n",
       "      <td>2500</td>\n",
       "      <td>583.28779</td>\n",
       "      <td>637.60025</td>\n",
       "      <td>542.95532</td>\n",
       "      <td>1541.64710</td>\n",
       "      <td>379.49266</td>\n",
       "      <td>747.7652</td>\n",
       "      <td>128.44553</td>\n",
       "      <td>157.94612</td>\n",
       "      <td>13.482454</td>\n",
       "      <td>...</td>\n",
       "      <td>3.551314e-12</td>\n",
       "      <td>0.045656</td>\n",
       "      <td>0.135729</td>\n",
       "      <td>0.040377</td>\n",
       "      <td>0.001859</td>\n",
       "      <td>1.302562e-23</td>\n",
       "      <td>0.337235</td>\n",
       "      <td>0.000177</td>\n",
       "      <td>5.945972</td>\n",
       "      <td>538.02891</td>\n",
       "    </tr>\n",
       "  </tbody>\n",
       "</table>\n",
       "<p>736 rows × 36 columns</p>\n",
       "</div>"
      ],
      "text/plain": [
       "     YEARS      CO2EQ  KYOTO-CO2EQ        CO2         CH4        N2O  \\\n",
       "0     1765  277.01467    277.01467  278.05158   721.89411  272.95961   \n",
       "1     1766  277.83880    277.81457  278.10615   722.25570  272.97121   \n",
       "2     1767  278.69351    278.68732  278.22039   722.97082  272.99419   \n",
       "3     1768  278.74752    278.83598  278.34305   723.66792  273.01678   \n",
       "4     1769  278.79644    278.98880  278.47058   724.34313  273.03903   \n",
       "..     ...        ...          ...        ...         ...        ...   \n",
       "731   2496  583.28779    637.60025  542.95532  1541.64710  379.49266   \n",
       "732   2497  583.28779    637.60025  542.95532  1541.64710  379.49266   \n",
       "733   2498  583.28779    637.60025  542.95532  1541.64710  379.49266   \n",
       "734   2499  583.28779    637.60025  542.95532  1541.64710  379.49266   \n",
       "735   2500  583.28779    637.60025  542.95532  1541.64710  379.49266   \n",
       "\n",
       "     FGASSUMHFC134AEQ  MHALOSUMCFC12EQ        CF4       C2F6  ...  \\\n",
       "0              0.0000          0.00000   35.00000   0.000000  ...   \n",
       "1              0.0000          0.00000   35.00000   0.000000  ...   \n",
       "2              0.0000          0.00000   35.00000   0.000000  ...   \n",
       "3              0.0000          0.00000   35.00000   0.000000  ...   \n",
       "4              0.0000          0.00000   35.00000   0.000000  ...   \n",
       "..                ...              ...        ...        ...  ...   \n",
       "731          747.7652        128.44553  157.94612  13.482454  ...   \n",
       "732          747.7652        128.44553  157.94612  13.482454  ...   \n",
       "733          747.7652        128.44553  157.94612  13.482454  ...   \n",
       "734          747.7652        128.44553  157.94612  13.482454  ...   \n",
       "735          747.7652        128.44553  157.94612  13.482454  ...   \n",
       "\n",
       "              MCF   HCFC_22  HCFC_141B  HCFC_142B  HALON1211     HALON1202  \\\n",
       "0    0.000000e+00  0.000000   0.000000   0.000000   0.000000  0.000000e+00   \n",
       "1    0.000000e+00  0.000000   0.000000   0.000000   0.000000  0.000000e+00   \n",
       "2    0.000000e+00  0.000000   0.000000   0.000000   0.000000  0.000000e+00   \n",
       "3    0.000000e+00  0.000000   0.000000   0.000000   0.000000  0.000000e+00   \n",
       "4    0.000000e+00  0.000000   0.000000   0.000000   0.000000  0.000000e+00   \n",
       "..            ...       ...        ...        ...        ...           ...   \n",
       "731  3.551314e-12  0.045656   0.135729   0.040377   0.001859  1.302562e-23   \n",
       "732  3.551314e-12  0.045656   0.135729   0.040377   0.001859  1.302562e-23   \n",
       "733  3.551314e-12  0.045656   0.135729   0.040377   0.001859  1.302562e-23   \n",
       "734  3.551314e-12  0.045656   0.135729   0.040377   0.001859  1.302562e-23   \n",
       "735  3.551314e-12  0.045656   0.135729   0.040377   0.001859  1.302562e-23   \n",
       "\n",
       "     HALON1301  HALON2402     CH3BR      CH3CL  \n",
       "0     0.000000   0.000000  5.800000  480.00000  \n",
       "1     0.000000   0.000000  5.800000  480.00000  \n",
       "2     0.000000   0.000000  5.800000  480.00000  \n",
       "3     0.000000   0.000000  5.800000  480.00000  \n",
       "4     0.000000   0.000000  5.800000  480.00000  \n",
       "..         ...        ...       ...        ...  \n",
       "731   0.337235   0.000177  5.945972  538.02891  \n",
       "732   0.337235   0.000177  5.945972  538.02891  \n",
       "733   0.337235   0.000177  5.945972  538.02891  \n",
       "734   0.337235   0.000177  5.945972  538.02891  \n",
       "735   0.337235   0.000177  5.945972  538.02891  \n",
       "\n",
       "[736 rows x 36 columns]"
      ]
     },
     "execution_count": 119,
     "metadata": {},
     "output_type": "execute_result"
    }
   ],
   "source": [
    "data45_ref"
   ]
  },
  {
   "cell_type": "code",
   "execution_count": 120,
   "metadata": {},
   "outputs": [],
   "source": [
    "# choose RCP data\n",
    "keep_ref = data45_ref[data45_ref['YEARS']>1999]\n",
    "keep_ref = keep_ref[keep_ref['YEARS']<2100]\n",
    "time_ref45 = keep_ref['YEARS']\n",
    "co2_ref45 = keep_ref['CO2']"
   ]
  },
  {
   "cell_type": "code",
   "execution_count": 121,
   "metadata": {},
   "outputs": [],
   "source": [
    "# choose SimMod data\n",
    "keep = data45[data45['year']>1999]\n",
    "time45 = keep['year']\n",
    "co245 = keep['co2_ppm']\n"
   ]
  },
  {
   "cell_type": "code",
   "execution_count": 122,
   "metadata": {},
   "outputs": [
    {
     "data": {
      "text/plain": [
       "Text(0,0.5,'ppm Atsmospheric CO2')"
      ]
     },
     "execution_count": 122,
     "metadata": {},
     "output_type": "execute_result"
    },
    {
     "data": {
      "image/png": "[encoded data removed]",
      "text/plain": [
       "<matplotlib.figure.Figure at 0x1e9f169b4a8>"
      ]
     },
     "metadata": {},
     "output_type": "display_data"
    }
   ],
   "source": [
    "# SimMod GHG concentrations\n",
    "plt.plot(time45, co245, ls = 'dashed')\n",
    "\n",
    "# RCP GHG concentrations\n",
    "plt.plot(time_ref45, co2_ref45)\n",
    "\n",
    "plt.title(\"CO2 concentration SimMod and RCP for RCP 4.5\")\n",
    "plt.xlabel(\"year\")\n",
    "plt.ylabel(\"ppm Atsmospheric CO2\")"
   ]
  },
  {
   "cell_type": "code",
   "execution_count": 2,
   "metadata": {},
   "outputs": [],
   "source": [
    "TAG26 = \"200810-130338-pulse_response-rcp26\"\n",
    "\n",
    "# Read in the pd.DataFrame\n",
    "data26 = load_data(TAG26)\n",
    "\n",
    "# Import RCP data\n",
    "data_ref26 = pd.read_table(\"../results/RCP3PD_MIDYR_CONC.DAT\",\n",
    "                      skiprows=38, sep='\\s+')\n"
   ]
  },
  {
   "cell_type": "code",
   "execution_count": 3,
   "metadata": {},
   "outputs": [],
   "source": [
    "# choose RCP data\n",
    "keep_ref = data_ref26[data_ref26['YEARS']>1999]\n",
    "keep_ref = keep_ref[keep_ref['YEARS']<2100]\n",
    "time_ref26 = keep_ref['YEARS']\n",
    "co2_ref26 = keep_ref['CO2']"
   ]
  },
  {
   "cell_type": "code",
   "execution_count": 4,
   "metadata": {},
   "outputs": [],
   "source": [
    "# choose SimMod data\n",
    "keep = data26[data26['year']>1999]\n",
    "time26 = keep['year']\n",
    "co226 = keep['co2_ppm']"
   ]
  },
  {
   "cell_type": "code",
   "execution_count": 126,
   "metadata": {},
   "outputs": [
    {
     "data": {
      "text/plain": [
       "Text(0,0.5,'ppm Atsmospheric CO2')"
      ]
     },
     "execution_count": 126,
     "metadata": {},
     "output_type": "execute_result"
    },
    {
     "data": {
      "image/png": "[encoded data removed]",
      "text/plain": [
       "<matplotlib.figure.Figure at 0x1e9eff75cf8>"
      ]
     },
     "metadata": {},
     "output_type": "display_data"
    }
   ],
   "source": [
    "# SimMod GHG concentrations\n",
    "plt.plot(time26, co226, ls = 'dashed')\n",
    "\n",
    "# RCP GHG concentrations\n",
    "plt.plot(time_ref26, co2_ref26)\n",
    "\n",
    "plt.title(\"CO2 concentration SimMod and RCP for RCP 2.6\")\n",
    "plt.xlabel(\"year\")\n",
    "plt.ylabel(\"ppm Atsmospheric CO2\")"
   ]
  },
  {
   "cell_type": "code",
   "execution_count": 141,
   "metadata": {},
   "outputs": [],
   "source": [
    "TAG6 = \"200810-132906-pulse_response-rcp60\"\n",
    "\n",
    "# Read in the pd.DataFrame\n",
    "data6 = load_data(TAG6)\n",
    "\n",
    "# Import RCP data\n",
    "data_ref6 = pd.read_table(\"../results/RCP6_MIDYR_CONC.DAT\",\n",
    "                      skiprows=38, sep='\\s+')"
   ]
  },
  {
   "cell_type": "code",
   "execution_count": 142,
   "metadata": {},
   "outputs": [],
   "source": [
    "# choose RCP data\n",
    "keep_ref = data_ref6[data_ref6['YEARS']>1999]\n",
    "keep_ref = keep_ref[keep_ref['YEARS']<2100]\n",
    "time_ref6 = keep_ref['YEARS']\n",
    "co2_ref6 = keep_ref['CO2']"
   ]
  },
  {
   "cell_type": "code",
   "execution_count": 143,
   "metadata": {},
   "outputs": [],
   "source": [
    "# choose SimMod data\n",
    "keep = data6[data6['year']>1999]\n",
    "time6 = keep['year']\n",
    "co26 = keep['co2_ppm']"
   ]
  },
  {
   "cell_type": "code",
   "execution_count": 144,
   "metadata": {},
   "outputs": [
    {
     "data": {
      "text/plain": [
       "Text(0,0.5,'ppm Atsmospheric CO2')"
      ]
     },
     "execution_count": 144,
     "metadata": {},
     "output_type": "execute_result"
    },
    {
     "data": {
      "image/png": "[encoded data removed]",
      "text/plain": [
       "<matplotlib.figure.Figure at 0x1e9f177b4e0>"
      ]
     },
     "metadata": {},
     "output_type": "display_data"
    }
   ],
   "source": [
    "# SimMod GHG concentrations\n",
    "plt.plot(time6, co26, ls = 'dashed')\n",
    "\n",
    "# RCP GHG concentrations\n",
    "plt.plot(time_ref6, co2_ref6)\n",
    "\n",
    "plt.title(\"CO2 concentration SimMod and RCP for RCP 6.0\")\n",
    "plt.xlabel(\"year\")\n",
    "plt.ylabel(\"ppm Atsmospheric CO2\")"
   ]
  },
  {
   "cell_type": "code",
   "execution_count": 145,
   "metadata": {},
   "outputs": [],
   "source": [
    "TAG85 = \"200809-183227-pulse_response-rcp85\"\n",
    "\n",
    "# Read in the pd.DataFrame\n",
    "data85 = load_data(TAG85)\n",
    "\n",
    "# Import RCP data\n",
    "data_ref85 = pd.read_table(\"../results/RCP85_MIDYR_CONC.DAT\",\n",
    "                      skiprows=38, sep='\\s+')"
   ]
  },
  {
   "cell_type": "code",
   "execution_count": 146,
   "metadata": {},
   "outputs": [],
   "source": [
    "# choose RCP data\n",
    "keep_ref = data_ref85[data_ref85['YEARS']>1999]\n",
    "keep_ref = keep_ref[keep_ref['YEARS']<2100]\n",
    "time_ref85 = keep_ref['YEARS']\n",
    "co2_ref85 = keep_ref['CO2']"
   ]
  },
  {
   "cell_type": "code",
   "execution_count": 147,
   "metadata": {},
   "outputs": [],
   "source": [
    "# choose SimMod data\n",
    "keep = data85[data85['year']>1999]\n",
    "time85 = keep['year']\n",
    "co285 = keep['co2_ppm']"
   ]
  },
  {
   "cell_type": "code",
   "execution_count": 148,
   "metadata": {},
   "outputs": [
    {
     "data": {
      "text/plain": [
       "Text(0,0.5,'ppm Atsmospheric CO2')"
      ]
     },
     "execution_count": 148,
     "metadata": {},
     "output_type": "execute_result"
    },
    {
     "data": {
      "image/png": "[encoded data removed]",
      "text/plain": [
       "<matplotlib.figure.Figure at 0x1e9f276ea58>"
      ]
     },
     "metadata": {},
     "output_type": "display_data"
    }
   ],
   "source": [
    "# SimMod GHG concentrations\n",
    "plt.plot(time85, co285, ls = 'dashed')\n",
    "\n",
    "# RCP GHG concentrations\n",
    "plt.plot(time_ref85, co2_ref85)\n",
    "\n",
    "plt.title(\"CO2 concentration SimMod and RCP for RCP 8.5\")\n",
    "plt.xlabel(\"year\")\n",
    "plt.ylabel(\"ppm Atsmospheric CO2\")"
   ]
  },
  {
   "cell_type": "code",
   "execution_count": 149,
   "metadata": {},
   "outputs": [
    {
     "data": {
      "text/plain": [
       "Text(0,0.5,'ppm Atsmospheric CO2')"
      ]
     },
     "execution_count": 149,
     "metadata": {},
     "output_type": "execute_result"
    },
    {
     "data": {
      "image/png": "[encoded data removed]",
      "text/plain": [
       "<matplotlib.figure.Figure at 0x1e9f2b25438>"
      ]
     },
     "metadata": {},
     "output_type": "display_data"
    }
   ],
   "source": [
    "# SimMod und RCP GHG concentrations 2.6\n",
    "plt.plot(time26, co226, ls = 'dashed', c = 'g')\n",
    "plt.plot(time_ref26, co2_ref26, c = 'g')\n",
    "\n",
    "# SimMod und RCP GHG concentrations 4.5\n",
    "plt.plot(time45, co245, ls = 'dashed', c = 'r')\n",
    "plt.plot(time_ref45, co2_ref45, c = 'r')\n",
    "\n",
    "# SimMod und RCP GHG concentrations 6.0\n",
    "plt.plot(time6, co26, ls = 'dashed', c = 'k')\n",
    "plt.plot(time_ref6, co2_ref6, c ='k')\n",
    "\n",
    "# SimMod und RCP GHG concentrations 8.5\n",
    "plt.plot(time85, co285, ls = 'dashed', c = 'c')\n",
    "plt.plot(time_ref85, co2_ref85, c = 'c')\n",
    "\n",
    "plt.title(\"CO2 concentrationy SimMod and RCP\")\n",
    "plt.xlabel(\"year\")\n",
    "plt.ylabel(\"ppm Atsmospheric CO2\")"
   ]
  },
  {
   "cell_type": "code",
   "execution_count": null,
   "metadata": {},
   "outputs": [],
   "source": []
  },
  {
   "cell_type": "code",
   "execution_count": null,
   "metadata": {},
   "outputs": [],
   "source": []
  }
 ],
 "metadata": {
  "kernelspec": {
   "display_name": "Python 3",
   "language": "python",
   "name": "python3"
  },
  "language_info": {
   "codemirror_mode": {
    "name": "ipython",
    "version": 3
   },
   "file_extension": ".py",
   "mimetype": "text/x-python",
   "name": "python",
   "nbconvert_exporter": "python",
   "pygments_lexer": "ipython3",
   "version": "3.6.3"
  }
 },
 "nbformat": 4,
 "nbformat_minor": 2
}
