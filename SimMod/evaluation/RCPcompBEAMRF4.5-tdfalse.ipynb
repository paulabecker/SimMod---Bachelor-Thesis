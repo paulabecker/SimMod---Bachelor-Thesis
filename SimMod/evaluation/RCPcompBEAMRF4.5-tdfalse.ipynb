{
 "cells": [
  {
   "cell_type": "code",
   "execution_count": 1,
   "metadata": {},
   "outputs": [],
   "source": [
    "import pandas as pd\n",
    "import numpy as np\n",
    "import matplotlib.pyplot as plt\n",
    "%matplotlib inline\n",
    "\n",
    "# Import plot functions\n",
    "from utils import load_data, lineplot, lineplots_on_grid\n",
    "\n",
    "TAG45 = \"200811-210827-BEAM-rcp45-tdfalse\"\n",
    "\n",
    "# Read in the pd.DataFrame\n",
    "data45 = load_data(TAG45)\n",
    "\n",
    "# Import RCP data\n",
    "data45_ref = pd.read_table(\"../results/RCP45_MIDYEAR_RADFORCING.DAT\",\n",
    "                      skiprows=59, sep='\\s+')\n"
   ]
  },
  {
   "cell_type": "code",
   "execution_count": 2,
   "metadata": {},
   "outputs": [
    {
     "data": {
      "text/html": [
       "<div>\n",
       "<style scoped>\n",
       "    .dataframe tbody tr th:only-of-type {\n",
       "        vertical-align: middle;\n",
       "    }\n",
       "\n",
       "    .dataframe tbody tr th {\n",
       "        vertical-align: top;\n",
       "    }\n",
       "\n",
       "    .dataframe thead th {\n",
       "        text-align: right;\n",
       "    }\n",
       "</style>\n",
       "<table border=\"1\" class=\"dataframe\">\n",
       "  <thead>\n",
       "    <tr style=\"text-align: right;\">\n",
       "      <th></th>\n",
       "      <th>YEARS</th>\n",
       "      <th>TOTAL_INCLVOLCANIC_RF</th>\n",
       "      <th>VOLCANIC_ANNUAL_RF</th>\n",
       "      <th>SOLAR_RF</th>\n",
       "      <th>TOTAL_ANTHRO_RF</th>\n",
       "      <th>GHG_RF</th>\n",
       "      <th>KYOTOGHG_RF</th>\n",
       "      <th>CO2CH4N2O_RF</th>\n",
       "      <th>CO2_RF</th>\n",
       "      <th>CH4_RF</th>\n",
       "      <th>...</th>\n",
       "      <th>SOXI_RF</th>\n",
       "      <th>NOXI_RF</th>\n",
       "      <th>BIOMASSAER_RF</th>\n",
       "      <th>MINERALDUST_RF</th>\n",
       "      <th>CLOUD_TOT_RF</th>\n",
       "      <th>STRATOZ_RF</th>\n",
       "      <th>TROPOZ_RF</th>\n",
       "      <th>CH4OXSTRATH2O_RF</th>\n",
       "      <th>LANDUSE_RF</th>\n",
       "      <th>BCSNOW_RF</th>\n",
       "    </tr>\n",
       "  </thead>\n",
       "  <tbody>\n",
       "    <tr>\n",
       "      <th>0</th>\n",
       "      <td>1765</td>\n",
       "      <td>0.000000</td>\n",
       "      <td>0.000000</td>\n",
       "      <td>-0.028359</td>\n",
       "      <td>0.000000</td>\n",
       "      <td>0.000000</td>\n",
       "      <td>0.000000</td>\n",
       "      <td>0.000000</td>\n",
       "      <td>0.000000</td>\n",
       "      <td>0.000000</td>\n",
       "      <td>...</td>\n",
       "      <td>0.000000</td>\n",
       "      <td>0.000000</td>\n",
       "      <td>0.000000</td>\n",
       "      <td>0.000000</td>\n",
       "      <td>0.000000</td>\n",
       "      <td>0.0</td>\n",
       "      <td>0.000000</td>\n",
       "      <td>0.000000</td>\n",
       "      <td>0.000000</td>\n",
       "      <td>0.000000</td>\n",
       "    </tr>\n",
       "    <tr>\n",
       "      <th>1</th>\n",
       "      <td>1766</td>\n",
       "      <td>0.126027</td>\n",
       "      <td>0.116222</td>\n",
       "      <td>-0.020694</td>\n",
       "      <td>0.016319</td>\n",
       "      <td>0.015364</td>\n",
       "      <td>0.015364</td>\n",
       "      <td>0.015364</td>\n",
       "      <td>0.011049</td>\n",
       "      <td>0.003576</td>\n",
       "      <td>...</td>\n",
       "      <td>-0.000029</td>\n",
       "      <td>-0.000013</td>\n",
       "      <td>0.000250</td>\n",
       "      <td>-0.000191</td>\n",
       "      <td>-0.000801</td>\n",
       "      <td>0.0</td>\n",
       "      <td>0.001406</td>\n",
       "      <td>0.000607</td>\n",
       "      <td>-0.000381</td>\n",
       "      <td>0.000108</td>\n",
       "    </tr>\n",
       "    <tr>\n",
       "      <th>2</th>\n",
       "      <td>1767</td>\n",
       "      <td>0.273031</td>\n",
       "      <td>0.232444</td>\n",
       "      <td>0.007039</td>\n",
       "      <td>0.033548</td>\n",
       "      <td>0.032123</td>\n",
       "      <td>0.032123</td>\n",
       "      <td>0.032123</td>\n",
       "      <td>0.023246</td>\n",
       "      <td>0.007361</td>\n",
       "      <td>...</td>\n",
       "      <td>-0.000080</td>\n",
       "      <td>-0.000032</td>\n",
       "      <td>0.000673</td>\n",
       "      <td>-0.000568</td>\n",
       "      <td>-0.002381</td>\n",
       "      <td>0.0</td>\n",
       "      <td>0.003378</td>\n",
       "      <td>0.001249</td>\n",
       "      <td>-0.001135</td>\n",
       "      <td>0.000321</td>\n",
       "    </tr>\n",
       "    <tr>\n",
       "      <th>3</th>\n",
       "      <td>1768</td>\n",
       "      <td>0.278871</td>\n",
       "      <td>0.197444</td>\n",
       "      <td>0.046257</td>\n",
       "      <td>0.035170</td>\n",
       "      <td>0.034972</td>\n",
       "      <td>0.034972</td>\n",
       "      <td>0.034972</td>\n",
       "      <td>0.025605</td>\n",
       "      <td>0.007773</td>\n",
       "      <td>...</td>\n",
       "      <td>-0.000120</td>\n",
       "      <td>-0.000042</td>\n",
       "      <td>0.000978</td>\n",
       "      <td>-0.000936</td>\n",
       "      <td>-0.003915</td>\n",
       "      <td>0.0</td>\n",
       "      <td>0.004257</td>\n",
       "      <td>0.001319</td>\n",
       "      <td>-0.001872</td>\n",
       "      <td>0.000528</td>\n",
       "    </tr>\n",
       "    <tr>\n",
       "      <th>4</th>\n",
       "      <td>1769</td>\n",
       "      <td>0.242045</td>\n",
       "      <td>0.131819</td>\n",
       "      <td>0.073605</td>\n",
       "      <td>0.036621</td>\n",
       "      <td>0.037899</td>\n",
       "      <td>0.037899</td>\n",
       "      <td>0.037899</td>\n",
       "      <td>0.028057</td>\n",
       "      <td>0.008172</td>\n",
       "      <td>...</td>\n",
       "      <td>-0.000154</td>\n",
       "      <td>-0.000048</td>\n",
       "      <td>0.001215</td>\n",
       "      <td>-0.001295</td>\n",
       "      <td>-0.005404</td>\n",
       "      <td>0.0</td>\n",
       "      <td>0.004880</td>\n",
       "      <td>0.001387</td>\n",
       "      <td>-0.002590</td>\n",
       "      <td>0.000731</td>\n",
       "    </tr>\n",
       "    <tr>\n",
       "      <th>...</th>\n",
       "      <td>...</td>\n",
       "      <td>...</td>\n",
       "      <td>...</td>\n",
       "      <td>...</td>\n",
       "      <td>...</td>\n",
       "      <td>...</td>\n",
       "      <td>...</td>\n",
       "      <td>...</td>\n",
       "      <td>...</td>\n",
       "      <td>...</td>\n",
       "      <td>...</td>\n",
       "      <td>...</td>\n",
       "      <td>...</td>\n",
       "      <td>...</td>\n",
       "      <td>...</td>\n",
       "      <td>...</td>\n",
       "      <td>...</td>\n",
       "      <td>...</td>\n",
       "      <td>...</td>\n",
       "      <td>...</td>\n",
       "      <td>...</td>\n",
       "    </tr>\n",
       "    <tr>\n",
       "      <th>731</th>\n",
       "      <td>2496</td>\n",
       "      <td>4.214857</td>\n",
       "      <td>0.000000</td>\n",
       "      <td>0.103756</td>\n",
       "      <td>4.111101</td>\n",
       "      <td>4.497226</td>\n",
       "      <td>4.456123</td>\n",
       "      <td>4.336481</td>\n",
       "      <td>3.601932</td>\n",
       "      <td>0.398358</td>\n",
       "      <td>...</td>\n",
       "      <td>-0.074140</td>\n",
       "      <td>-0.046835</td>\n",
       "      <td>0.036602</td>\n",
       "      <td>-0.100000</td>\n",
       "      <td>-0.386325</td>\n",
       "      <td>0.0</td>\n",
       "      <td>0.238410</td>\n",
       "      <td>0.068078</td>\n",
       "      <td>-0.232697</td>\n",
       "      <td>0.045487</td>\n",
       "    </tr>\n",
       "    <tr>\n",
       "      <th>732</th>\n",
       "      <td>2497</td>\n",
       "      <td>4.214857</td>\n",
       "      <td>0.000000</td>\n",
       "      <td>0.103756</td>\n",
       "      <td>4.111101</td>\n",
       "      <td>4.497226</td>\n",
       "      <td>4.456123</td>\n",
       "      <td>4.336481</td>\n",
       "      <td>3.601932</td>\n",
       "      <td>0.398358</td>\n",
       "      <td>...</td>\n",
       "      <td>-0.074140</td>\n",
       "      <td>-0.046835</td>\n",
       "      <td>0.036602</td>\n",
       "      <td>-0.100000</td>\n",
       "      <td>-0.386325</td>\n",
       "      <td>0.0</td>\n",
       "      <td>0.238410</td>\n",
       "      <td>0.068078</td>\n",
       "      <td>-0.232697</td>\n",
       "      <td>0.045487</td>\n",
       "    </tr>\n",
       "    <tr>\n",
       "      <th>733</th>\n",
       "      <td>2498</td>\n",
       "      <td>4.214857</td>\n",
       "      <td>0.000000</td>\n",
       "      <td>0.103756</td>\n",
       "      <td>4.111101</td>\n",
       "      <td>4.497226</td>\n",
       "      <td>4.456123</td>\n",
       "      <td>4.336481</td>\n",
       "      <td>3.601932</td>\n",
       "      <td>0.398358</td>\n",
       "      <td>...</td>\n",
       "      <td>-0.074140</td>\n",
       "      <td>-0.046835</td>\n",
       "      <td>0.036602</td>\n",
       "      <td>-0.100000</td>\n",
       "      <td>-0.386325</td>\n",
       "      <td>0.0</td>\n",
       "      <td>0.238410</td>\n",
       "      <td>0.068078</td>\n",
       "      <td>-0.232697</td>\n",
       "      <td>0.045487</td>\n",
       "    </tr>\n",
       "    <tr>\n",
       "      <th>734</th>\n",
       "      <td>2499</td>\n",
       "      <td>4.214857</td>\n",
       "      <td>0.000000</td>\n",
       "      <td>0.103756</td>\n",
       "      <td>4.111101</td>\n",
       "      <td>4.497226</td>\n",
       "      <td>4.456123</td>\n",
       "      <td>4.336481</td>\n",
       "      <td>3.601932</td>\n",
       "      <td>0.398358</td>\n",
       "      <td>...</td>\n",
       "      <td>-0.074140</td>\n",
       "      <td>-0.046835</td>\n",
       "      <td>0.036602</td>\n",
       "      <td>-0.100000</td>\n",
       "      <td>-0.386325</td>\n",
       "      <td>0.0</td>\n",
       "      <td>0.238410</td>\n",
       "      <td>0.068078</td>\n",
       "      <td>-0.232697</td>\n",
       "      <td>0.045487</td>\n",
       "    </tr>\n",
       "    <tr>\n",
       "      <th>735</th>\n",
       "      <td>2500</td>\n",
       "      <td>4.214857</td>\n",
       "      <td>0.000000</td>\n",
       "      <td>0.103756</td>\n",
       "      <td>4.111101</td>\n",
       "      <td>4.497226</td>\n",
       "      <td>4.456123</td>\n",
       "      <td>4.336481</td>\n",
       "      <td>3.601932</td>\n",
       "      <td>0.398358</td>\n",
       "      <td>...</td>\n",
       "      <td>-0.074140</td>\n",
       "      <td>-0.046835</td>\n",
       "      <td>0.036602</td>\n",
       "      <td>-0.100000</td>\n",
       "      <td>-0.386325</td>\n",
       "      <td>0.0</td>\n",
       "      <td>0.238410</td>\n",
       "      <td>0.068078</td>\n",
       "      <td>-0.232697</td>\n",
       "      <td>0.045487</td>\n",
       "    </tr>\n",
       "  </tbody>\n",
       "</table>\n",
       "<p>736 rows × 54 columns</p>\n",
       "</div>"
      ],
      "text/plain": [
       "     YEARS  TOTAL_INCLVOLCANIC_RF  VOLCANIC_ANNUAL_RF  SOLAR_RF  \\\n",
       "0     1765               0.000000            0.000000 -0.028359   \n",
       "1     1766               0.126027            0.116222 -0.020694   \n",
       "2     1767               0.273031            0.232444  0.007039   \n",
       "3     1768               0.278871            0.197444  0.046257   \n",
       "4     1769               0.242045            0.131819  0.073605   \n",
       "..     ...                    ...                 ...       ...   \n",
       "731   2496               4.214857            0.000000  0.103756   \n",
       "732   2497               4.214857            0.000000  0.103756   \n",
       "733   2498               4.214857            0.000000  0.103756   \n",
       "734   2499               4.214857            0.000000  0.103756   \n",
       "735   2500               4.214857            0.000000  0.103756   \n",
       "\n",
       "     TOTAL_ANTHRO_RF    GHG_RF  KYOTOGHG_RF  CO2CH4N2O_RF    CO2_RF    CH4_RF  \\\n",
       "0           0.000000  0.000000     0.000000      0.000000  0.000000  0.000000   \n",
       "1           0.016319  0.015364     0.015364      0.015364  0.011049  0.003576   \n",
       "2           0.033548  0.032123     0.032123      0.032123  0.023246  0.007361   \n",
       "3           0.035170  0.034972     0.034972      0.034972  0.025605  0.007773   \n",
       "4           0.036621  0.037899     0.037899      0.037899  0.028057  0.008172   \n",
       "..               ...       ...          ...           ...       ...       ...   \n",
       "731         4.111101  4.497226     4.456123      4.336481  3.601932  0.398358   \n",
       "732         4.111101  4.497226     4.456123      4.336481  3.601932  0.398358   \n",
       "733         4.111101  4.497226     4.456123      4.336481  3.601932  0.398358   \n",
       "734         4.111101  4.497226     4.456123      4.336481  3.601932  0.398358   \n",
       "735         4.111101  4.497226     4.456123      4.336481  3.601932  0.398358   \n",
       "\n",
       "     ...   SOXI_RF   NOXI_RF  BIOMASSAER_RF  MINERALDUST_RF  CLOUD_TOT_RF  \\\n",
       "0    ...  0.000000  0.000000       0.000000        0.000000      0.000000   \n",
       "1    ... -0.000029 -0.000013       0.000250       -0.000191     -0.000801   \n",
       "2    ... -0.000080 -0.000032       0.000673       -0.000568     -0.002381   \n",
       "3    ... -0.000120 -0.000042       0.000978       -0.000936     -0.003915   \n",
       "4    ... -0.000154 -0.000048       0.001215       -0.001295     -0.005404   \n",
       "..   ...       ...       ...            ...             ...           ...   \n",
       "731  ... -0.074140 -0.046835       0.036602       -0.100000     -0.386325   \n",
       "732  ... -0.074140 -0.046835       0.036602       -0.100000     -0.386325   \n",
       "733  ... -0.074140 -0.046835       0.036602       -0.100000     -0.386325   \n",
       "734  ... -0.074140 -0.046835       0.036602       -0.100000     -0.386325   \n",
       "735  ... -0.074140 -0.046835       0.036602       -0.100000     -0.386325   \n",
       "\n",
       "     STRATOZ_RF  TROPOZ_RF  CH4OXSTRATH2O_RF  LANDUSE_RF  BCSNOW_RF  \n",
       "0           0.0   0.000000          0.000000    0.000000   0.000000  \n",
       "1           0.0   0.001406          0.000607   -0.000381   0.000108  \n",
       "2           0.0   0.003378          0.001249   -0.001135   0.000321  \n",
       "3           0.0   0.004257          0.001319   -0.001872   0.000528  \n",
       "4           0.0   0.004880          0.001387   -0.002590   0.000731  \n",
       "..          ...        ...               ...         ...        ...  \n",
       "731         0.0   0.238410          0.068078   -0.232697   0.045487  \n",
       "732         0.0   0.238410          0.068078   -0.232697   0.045487  \n",
       "733         0.0   0.238410          0.068078   -0.232697   0.045487  \n",
       "734         0.0   0.238410          0.068078   -0.232697   0.045487  \n",
       "735         0.0   0.238410          0.068078   -0.232697   0.045487  \n",
       "\n",
       "[736 rows x 54 columns]"
      ]
     },
     "execution_count": 2,
     "metadata": {},
     "output_type": "execute_result"
    }
   ],
   "source": [
    "data45_ref"
   ]
  },
  {
   "cell_type": "code",
   "execution_count": 3,
   "metadata": {},
   "outputs": [],
   "source": [
    "# choose RCP data\n",
    "keep_ref = data45_ref[data45_ref['YEARS']>1999]\n",
    "keep_ref = keep_ref[keep_ref['YEARS']<2100]\n",
    "time_ref45 = keep_ref['YEARS']\n",
    "rf_ghg_ref45 = keep_ref['CO2CH4N2O_RF']"
   ]
  },
  {
   "cell_type": "code",
   "execution_count": 4,
   "metadata": {},
   "outputs": [],
   "source": [
    "# choose SimMod data\n",
    "keep = data45[data45['year']>1999]\n",
    "time45 = keep['year']\n",
    "rf_ghg45 = keep['total_forcing_ghg']\n"
   ]
  },
  {
   "cell_type": "code",
   "execution_count": 5,
   "metadata": {},
   "outputs": [
    {
     "data": {
      "text/plain": [
       "Text(0,0.5,'W/m^2')"
      ]
     },
     "execution_count": 5,
     "metadata": {},
     "output_type": "execute_result"
    },
    {
     "data": {
      "image/png": "[encoded data removed]",
      "text/plain": [
       "<matplotlib.figure.Figure at 0x1cdc378b4a8>"
      ]
     },
     "metadata": {},
     "output_type": "display_data"
    }
   ],
   "source": [
    "# SimMod GHG concentrations\n",
    "plt.plot(time45, rf_ghg45, ls = 'dashed')\n",
    "\n",
    "# RCP GHG concentrations\n",
    "plt.plot(time_ref45, rf_ghg_ref45)\n",
    "\n",
    "plt.title(\"SimMod, CMIP5: GHG RF for RCP 4.5\")\n",
    "plt.xlabel(\"year\")\n",
    "plt.ylabel(\"W/m^2\")"
   ]
  },
  {
   "cell_type": "code",
   "execution_count": 6,
   "metadata": {},
   "outputs": [],
   "source": [
    "# choose RCP data\n",
    "keep_ref = data45_ref[data45_ref['YEARS']>1999]\n",
    "keep_ref = keep_ref[keep_ref['YEARS']<2100]\n",
    "time_ref45 = keep_ref['YEARS']\n",
    "rf_ghg_ref45 = keep_ref['TOTAL_ANTHRO_RF']"
   ]
  },
  {
   "cell_type": "code",
   "execution_count": 7,
   "metadata": {},
   "outputs": [],
   "source": [
    "# choose SimMod data\n",
    "keep = data45[data45['year']>1999]\n",
    "time45 = keep['year']\n",
    "rf_ghg45 = keep['total_forcing']\n"
   ]
  },
  {
   "cell_type": "code",
   "execution_count": 8,
   "metadata": {},
   "outputs": [
    {
     "data": {
      "text/plain": [
       "Text(0,0.5,'W/m^2')"
      ]
     },
     "execution_count": 8,
     "metadata": {},
     "output_type": "execute_result"
    },
    {
     "data": {
      "image/png": "[encoded data removed]",
      "text/plain": [
       "<matplotlib.figure.Figure at 0x1cdc378b0b8>"
      ]
     },
     "metadata": {},
     "output_type": "display_data"
    }
   ],
   "source": [
    "# SimMod \n",
    "plt.plot(time45, rf_ghg45, ls = 'dashed')\n",
    "\n",
    "# CMIP5\n",
    "plt.plot(time_ref45, rf_ghg_ref45)\n",
    "\n",
    "plt.title(\"SimMod: total RF, CMIP5: total anthropogenic RF for RCP 4.5\")\n",
    "plt.xlabel(\"year\")\n",
    "plt.ylabel(\"W/m^2\")"
   ]
  },
  {
   "cell_type": "code",
   "execution_count": 9,
   "metadata": {},
   "outputs": [],
   "source": [
    "# choose RCP data\n",
    "keep_ref = data45_ref[data45_ref['YEARS']>1999]\n",
    "keep_ref = keep_ref[keep_ref['YEARS']<2100]\n",
    "time_ref45 = keep_ref['YEARS']\n",
    "rf_ghg_ref45 = keep_ref['CO2_RF']"
   ]
  },
  {
   "cell_type": "code",
   "execution_count": 10,
   "metadata": {},
   "outputs": [],
   "source": [
    "# choose SimMod data\n",
    "keep = data45[data45['year']>1999]\n",
    "time45 = keep['year']\n",
    "rf_ghg45 = keep['co2_forcing']\n"
   ]
  },
  {
   "cell_type": "code",
   "execution_count": 11,
   "metadata": {},
   "outputs": [
    {
     "data": {
      "text/plain": [
       "Text(0,0.5,'W/m^2')"
      ]
     },
     "execution_count": 11,
     "metadata": {},
     "output_type": "execute_result"
    },
    {
     "data": {
      "image/png": "[encoded data removed]",
      "text/plain": [
       "<matplotlib.figure.Figure at 0x1cdc395b518>"
      ]
     },
     "metadata": {},
     "output_type": "display_data"
    }
   ],
   "source": [
    "# SimMod \n",
    "plt.plot(time45, rf_ghg45, ls = 'dashed')\n",
    "\n",
    "# CMIP5\n",
    "plt.plot(time_ref45, rf_ghg_ref45)\n",
    "\n",
    "plt.title(\"SimMod, CMIP5: CO2 RF for RCP 4.5\")\n",
    "plt.xlabel(\"year\")\n",
    "plt.ylabel(\"W/m^2\")"
   ]
  },
  {
   "cell_type": "code",
   "execution_count": 12,
   "metadata": {},
   "outputs": [],
   "source": [
    "# choose RCP data\n",
    "keep_ref = data45_ref[data45_ref['YEARS']>1999]\n",
    "keep_ref = keep_ref[keep_ref['YEARS']<2100]\n",
    "time_ref45 = keep_ref['YEARS']\n",
    "rf_ghg_ref45 = keep_ref['CH4_RF']"
   ]
  },
  {
   "cell_type": "code",
   "execution_count": 13,
   "metadata": {},
   "outputs": [],
   "source": [
    "# choose SimMod data\n",
    "keep = data45[data45['year']>1999]\n",
    "time45 = keep['year']\n",
    "rf_ghg45 = keep['ch4_forcing']"
   ]
  },
  {
   "cell_type": "code",
   "execution_count": 14,
   "metadata": {},
   "outputs": [
    {
     "data": {
      "text/plain": [
       "Text(0,0.5,'W/m^2')"
      ]
     },
     "execution_count": 14,
     "metadata": {},
     "output_type": "execute_result"
    },
    {
     "data": {
      "image/png": "[encoded data removed]",
      "text/plain": [
       "<matplotlib.figure.Figure at 0x1cdc37f4908>"
      ]
     },
     "metadata": {},
     "output_type": "display_data"
    }
   ],
   "source": [
    "# SimMod \n",
    "plt.plot(time45, rf_ghg45, ls = 'dashed')\n",
    "\n",
    "# CMIP5\n",
    "plt.plot(time_ref45, rf_ghg_ref45)\n",
    "\n",
    "plt.title(\"SimMod, CMIP5: CH4 RF for RCP 4.5\")\n",
    "plt.xlabel(\"year\")\n",
    "plt.ylabel(\"W/m^2\")"
   ]
  },
  {
   "cell_type": "code",
   "execution_count": 15,
   "metadata": {},
   "outputs": [],
   "source": [
    "# choose RCP data\n",
    "keep_ref = data45_ref[data45_ref['YEARS']>1999]\n",
    "keep_ref = keep_ref[keep_ref['YEARS']<2100]\n",
    "time_ref45 = keep_ref['YEARS']\n",
    "rf_ghg_ref45 = keep_ref['N2O_RF']"
   ]
  },
  {
   "cell_type": "code",
   "execution_count": 16,
   "metadata": {},
   "outputs": [],
   "source": [
    "# choose SimMod data\n",
    "keep = data45[data45['year']>1999]\n",
    "time45 = keep['year']\n",
    "rf_ghg45 = keep['n2o_forcing']\n"
   ]
  },
  {
   "cell_type": "code",
   "execution_count": 17,
   "metadata": {},
   "outputs": [
    {
     "data": {
      "text/plain": [
       "Text(0,0.5,'W/m^2')"
      ]
     },
     "execution_count": 17,
     "metadata": {},
     "output_type": "execute_result"
    },
    {
     "data": {
      "image/png": "[encoded data removed]",
      "text/plain": [
       "<matplotlib.figure.Figure at 0x1cdc3812ba8>"
      ]
     },
     "metadata": {},
     "output_type": "display_data"
    }
   ],
   "source": [
    "# SimMod \n",
    "plt.plot(time45, rf_ghg45, ls = 'dashed')\n",
    "\n",
    "# CMIP5\n",
    "plt.plot(time_ref45, rf_ghg_ref45)\n",
    "\n",
    "plt.title(\"SimMod, CMIP5: N2O RF for RCP 4.5\")\n",
    "plt.xlabel(\"year\")\n",
    "plt.ylabel(\"W/m^2\")"
   ]
  },
  {
   "cell_type": "code",
   "execution_count": null,
   "metadata": {},
   "outputs": [],
   "source": []
  },
  {
   "cell_type": "code",
   "execution_count": null,
   "metadata": {},
   "outputs": [],
   "source": []
  }
 ],
 "metadata": {
  "kernelspec": {
   "display_name": "Python 3",
   "language": "python",
   "name": "python3"
  },
  "language_info": {
   "codemirror_mode": {
    "name": "ipython",
    "version": 3
   },
   "file_extension": ".py",
   "mimetype": "text/x-python",
   "name": "python",
   "nbconvert_exporter": "python",
   "pygments_lexer": "ipython3",
   "version": "3.6.3"
  }
 },
 "nbformat": 4,
 "nbformat_minor": 2
}
