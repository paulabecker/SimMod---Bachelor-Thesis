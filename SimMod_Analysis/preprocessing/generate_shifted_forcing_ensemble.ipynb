{
 "cells": [
  {
   "cell_type": "markdown",
   "metadata": {},
   "source": [
    "__This script normalizes the forcing ensemble to a specified baseline.__"
   ]
  },
  {
   "cell_type": "code",
   "execution_count": 2,
   "metadata": {},
   "outputs": [],
   "source": [
    "import numpy as np\n",
    "import pandas as pd\n",
    "import scipy.io as spio"
   ]
  },
  {
   "cell_type": "code",
   "execution_count": 7,
   "metadata": {},
   "outputs": [],
   "source": [
    "FORCING_PATH = \"../data/raw/forcing_data/1750-Oct2017_forcings.idlsave\"\n",
    "\n",
    "# Baseline [BL, BU]\n",
    "BL = 1961\n",
    "BU = 1990\n",
    "\n",
    "forcings = spio.readsav(FORCING_PATH, python_dict =True, verbose=False)\n",
    "baseline = (forcings['year']>=BL) & (forcings['year']<=BU)"
   ]
  },
  {
   "cell_type": "code",
   "execution_count": 8,
   "metadata": {},
   "outputs": [],
   "source": [
    "shifted_forcings = dict()\n",
    "shifted_forcings['year'] = forcings['year']\n",
    "shifted_forcings['rf_total'] = forcings['rf_total'] - forcings['rf_total'][baseline,:].mean(axis=0)\n",
    "shifted_forcings['rf_anthro'] = forcings['rf_anthro'] - forcings['rf_anthro'][baseline,:].mean(axis=0)"
   ]
  },
  {
   "cell_type": "code",
   "execution_count": 9,
   "metadata": {},
   "outputs": [
    {
     "data": {
      "text/plain": [
       "dict_keys(['rf_total', 'year', 'rf_anthro', 'rf_nat', 'f_total', 'ar5all'])"
      ]
     },
     "execution_count": 9,
     "metadata": {},
     "output_type": "execute_result"
    }
   ],
   "source": [
    "forcings.keys()"
   ]
  },
  {
   "cell_type": "code",
   "execution_count": 10,
   "metadata": {},
   "outputs": [],
   "source": [
    "# Save the shifted ensemble\n",
    "#np.save(\"../data/preprocessed/forcing_ensemble_base1961-1990\", shifted_forcings)"
   ]
  },
  {
   "cell_type": "code",
   "execution_count": 11,
   "metadata": {},
   "outputs": [],
   "source": [
    "# Test loading\n",
    "data = np.load(\"../data/preprocessed/forcing_ensemble_base1961-1990.npy\", allow_pickle=True).item()"
   ]
  },
  {
   "cell_type": "code",
   "execution_count": null,
   "metadata": {},
   "outputs": [],
   "source": []
  }
 ],
 "metadata": {
  "kernelspec": {
   "display_name": "Python 3",
   "language": "python",
   "name": "python3"
  },
  "language_info": {
   "codemirror_mode": {
    "name": "ipython",
    "version": 3
   },
   "file_extension": ".py",
   "mimetype": "text/x-python",
   "name": "python",
   "nbconvert_exporter": "python",
   "pygments_lexer": "ipython3",
   "version": "3.7.6"
  }
 },
 "nbformat": 4,
 "nbformat_minor": 4
}
